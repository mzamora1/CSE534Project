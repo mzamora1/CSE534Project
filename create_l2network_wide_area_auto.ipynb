{
 "cells": [
  {
   "cell_type": "markdown",
   "metadata": {},
   "source": [
    "# Create a Wide-Area Ethernet (Layer 2) Network: Automatic Configuration\n",
    "\n",
    "This notebook shows how to create an isolated local Ethernet and connect compute nodes to it and use FABlib's automatic configuration functionality."
   ]
  },
  {
   "cell_type": "markdown",
   "metadata": {},
   "source": [
    "## Import the FABlib Library\n"
   ]
  },
  {
   "cell_type": "code",
   "execution_count": null,
   "metadata": {},
   "outputs": [],
   "source": [
    "from ipaddress import ip_address, IPv4Address, IPv6Address, IPv4Network, IPv6Network\n",
    "import ipaddress\n",
    "\n",
    "from fabrictestbed_extensions.fablib.fablib import FablibManager as fablib_manager\n",
    "\n",
    "fablib = fablib_manager()\n",
    "                     \n",
    "fablib.show_config();"
   ]
  },
  {
   "cell_type": "markdown",
   "metadata": {},
   "source": [
    "## Create the Experiment Slice\n",
    "\n",
    "The following creates two nodes with basic NICs connected to an isolated WAN Ethernet.  \n",
    "\n",
    "Two nodes are created and one NIC component is added to each node.  This example uses components of model `NIC_Basic` which are SR-IOV Virtual Function on a 100 Gpbs Mellanox ConnectX-6 PCI device. The VF is accessed by the node via PCI passthrough. Other NIC models are listed below. When using dedicated PCI devices the whole physical device is allocated to one node and the device is accessed by the node using PCI passthrough. Calling the `get_interfaces()` method on a component will return a list of interfaces. Many dedicated NIC components may have more than one port.  Either port can be connected to the network.\n",
    "\n",
    "Automatic configuration requires specify a subnet for the network and setting the interface's mode to `auto` using the `iface1.set_mode('auto')` function before submitting the request. With automatic configuration, FABlib will allocate an IP from the network's subnet and configure the device during the post boot configuration stage.  Optionally, you can add routes to the node before submitting the request.\n",
    "\n",
    "\n",
    "NIC component models options:\n",
    "- NIC_Basic: 100 Gbps Mellanox ConnectX-6 SR-IOV VF (1 Port)\n",
    "- NIC_ConnectX_5: 25 Gbps Dedicated Mellanox ConnectX-5 PCI Device (2 Ports) \n",
    "- NIC_ConnectX_6: 100 Gbps Dedicated Mellanox ConnectX-6 PCI Device (2 Ports) "
   ]
  },
  {
   "cell_type": "code",
   "execution_count": null,
   "metadata": {},
   "outputs": [],
   "source": [
    "slice_name = 'Project'\n",
    "[site1,site2]  = ['TACC','DALL'] #fablib.get_random_sites(count=2)\n",
    "print(f\"Sites: {site1}, {site2}\")\n",
    "\n",
    "shared_packages = 'iperf3'\n",
    "node1_packages = 'httpd wget sysstat'\n",
    "client_packages = 'dnf-plugins-core epel-release python3 git'\n",
    "clients_per_site = {\n",
    "    site2: 5\n",
    "}\n",
    "client_prefix = 'client'\n",
    "\n",
    "node1_name = 'router'\n",
    "router_nic = 'NIC_ConnectX_5'\n",
    "node2_name = 'client1'\n",
    "network_name='edge_net'"
   ]
  },
  {
   "cell_type": "code",
   "execution_count": null,
   "metadata": {
    "tags": []
   },
   "outputs": [],
   "source": [
    "#Create Slice\n",
    "slice = fablib.new_slice(name=slice_name)\n",
    "# Must use Rocky Linux 8 (default) for L2 network to be initalized properly\n",
    "image = None #'default_ubuntu_20'\n",
    "# Network\n",
    "net1 = slice.add_l2network(name=network_name, subnet=IPv4Network(\"192.168.1.0/24\"))\n",
    "\n",
    "# router\n",
    "router = slice.add_node(name=node1_name, site=site1,cores=16,ram=32,disk=20,image=image)\n",
    "iface1 = router.add_component(model=router_nic, name='nic1').get_interfaces()[0]\n",
    "iface1.set_mode('auto')\n",
    "net1.add_interface(iface1)\n",
    "# router.add_component(model=\"GPU_A30\", name=\"video_encoder\")\n",
    "\n",
    "for site, clients in clients_per_site.items():\n",
    "    for i in range(1, clients + 1):\n",
    "        node2 = slice.add_node(name=client_prefix + str(i), site=site, cores=2,ram=4,disk=10,image=image)\n",
    "        iface2 = node2.add_component(model='NIC_Basic', name='nic1').get_interfaces()[0]\n",
    "        iface2.set_mode('auto')\n",
    "        net1.add_interface(iface2)\n",
    "# client1\n",
    "# node2 = slice.add_node(name=node2_name, site=site2, cores=2,ram=4,disk=10,image=image)\n",
    "# iface2 = node2.add_component(model='NIC_Basic', name='nic1').get_interfaces()[0]\n",
    "# iface2.set_mode('auto')\n",
    "# net1.add_interface(iface2)\n",
    "\n",
    "#Submit Slice Request\n",
    "slice.submit()\n",
    "slice.wait_ssh(progress=True)"
   ]
  },
  {
   "cell_type": "code",
   "execution_count": null,
   "metadata": {},
   "outputs": [],
   "source": [
    "for node in slice.get_nodes():\n",
    "    if node.get_name() != node1_name:\n",
    "        node.execute_thread(\"sudo dnf update -y; sudo dnf config-manager --add-repo=https://negativo17.org/repos/epel-multimedia.repo; sudo dnf config-manager --set-enabled powertools; sudo dnf install %s %s -y; sudo dnf install ffmpeg -y; git clone https://github.com/teaching-on-testbeds/AStream\" % (shared_packages, client_packages))\n",
    "\n",
    "print(\"Setting up router...\")\n",
    "# Start web server on router\n",
    "router = slice.get_node(name=node1_name)\n",
    "router.execute(\"sudo dnf update -y; sudo dnf install %s %s -y\" % (shared_packages, node1_packages))\n",
    "router.execute(\"wget https://nyu.box.com/shared/static/d6btpwf5lqmkqh53b52ynhmfthh2qtby.tgz -O media.tgz && sudo tar -v -xzf media.tgz -C /var/www/html/ && sudo systemctl enable --now httpd\")\n",
    "\n"
   ]
  },
  {
   "cell_type": "markdown",
   "metadata": {},
   "source": [
    "## Run the Experiment\n",
    "\n",
    "With automatic configuration the slice is ready for experimentation after it becomes active.  Note that automatic configuration works well when saving slices to a file and reinstantiating the slice.  Configuration tasks can be stored in the saved slice, reducing the complexity of notebooks and other runtime steps.\n",
    "\n",
    "We will find the ping round trip time for this pair of sites.  Your experiment should be more interesting!\n"
   ]
  },
  {
   "cell_type": "code",
   "execution_count": null,
   "metadata": {},
   "outputs": [],
   "source": [
    "slice = fablib.get_slice(slice_name)\n",
    "\n",
    "node1 = slice.get_node(name=node1_name)        \n",
    "node2 = slice.get_node(name=node2_name)           \n",
    "\n",
    "node2_addr = node2.get_interface(network_name=network_name).get_ip_addr()\n",
    "\n",
    "stdout, stderr = node1.execute(f'ping -c 30 {node2_addr}')"
   ]
  },
  {
   "cell_type": "code",
   "execution_count": null,
   "metadata": {},
   "outputs": [],
   "source": [
    "router = slice.get_node(node1_name)\n",
    "routerIP = router.get_interface(network_name=network_name).get_ip_addr()\n",
    "print(\"hello %s \" % routerIP)"
   ]
  },
  {
   "cell_type": "markdown",
   "metadata": {},
   "source": [
    "Change networkType to either \"plain\", \"dpdk\", or \"rdma\" in next cell before testing a new network type"
   ]
  },
  {
   "cell_type": "code",
   "execution_count": null,
   "metadata": {},
   "outputs": [],
   "source": [
    "import time\n",
    "router = slice.get_node(node1_name)\n",
    "routerIP = router.get_interface(network_name=network_name).get_ip_addr()\n",
    "networkType = \"dpdk\"\n",
    "runs = [1,2,5]\n",
    "\n",
    "remoteOutDir = \"/home/rocky/iperf\"\n",
    "router.execute(\"mkdir -p \" + remoteOutDir)\n",
    "for clientsToTest in runs:\n",
    "    print(\"Testing %d clients on %s network\" % (clientsToTest, networkType))\n",
    "    logFile = remoteOutDir + '/%s.iperf.%d.log' % (networkType, clientsToTest)\n",
    "    router.execute('rm %s' % (logFile))\n",
    "    for i in range(1, clientsToTest + 1):\n",
    "        router.execute('timeout 35 iperf3 -s -p %d --logfile %s --json 2>/dev/null >/dev/null &' % (5000 + i,logFile))\n",
    "\n",
    "    print(\"starting clients\")\n",
    "\n",
    "    for i in range(1, clientsToTest + 1):\n",
    "        client = slice.get_node(client_prefix + str(i))\n",
    "        client.execute('iperf3 -c %s -p %d --time 30 2>/dev/null >/dev/null &' % (routerIP, 5000 + i))\n",
    "        print('connected to client%d' % i)\n",
    "        \n",
    "    remoteSarFile = \"%s/%s.iperf.sar.%d.txt\" % (remoteOutDir, networkType, clientsToTest)\n",
    "    router.execute('sar -u 1 30 -n DEV -wr > %s 2>/dev/null &' % (remoteSarFile))\n",
    "    time.sleep(35)\n",
    "    router.execute('tail %s -n 15' % remoteSarFile)"
   ]
  },
  {
   "cell_type": "code",
   "execution_count": null,
   "metadata": {},
   "outputs": [],
   "source": [
    "import os\n",
    "iperfLogDir = \"/home/fabric/work/project/iperf\"\n",
    "os.system(\"mkdir -p %s\" % iperfLogDir)\n",
    "for clientsToTest in runs:\n",
    "    logfile = \"%s.iperf.%d.log\" % (networkType, clientsToTest)\n",
    "    iperfLogPath =iperfLogDir + \"/\" + logfile\n",
    "    router.download_file(local_file_path=iperfLogPath, remote_file_path=remoteOutDir + \"/\" + logfile)"
   ]
  },
  {
   "cell_type": "code",
   "execution_count": null,
   "metadata": {},
   "outputs": [],
   "source": [
    "import json\n",
    "import re\n",
    "import collections.abc\n",
    "\n",
    "for clientsToTest in runs:\n",
    "    iperfLogPath = iperfLogDir + \"/%s.iperf.%d.log\" % (networkType, clientsToTest)\n",
    "    print(\"Reading %s\" % iperfLogPath)\n",
    "    with open(iperfLogPath) as f:\n",
    "        obj = json.loads(\"[\" + f.read().replace('}\\n{', '},{') + \"]\")\n",
    "    obj = obj if isinstance(obj, collections.abc.Sequence) else [obj]\n",
    "\n",
    "    length = 0\n",
    "    totalThroughput = 0\n",
    "    for clientStream in obj:\n",
    "        if not (\"sum_received\" in clientStream[\"end\"]):\n",
    "            continue\n",
    "        throughput = (clientStream[\"end\"][\"sum_received\"][\"bits_per_second\"] / 1000000)\n",
    "        totalThroughput = totalThroughput + throughput\n",
    "        length += 1\n",
    "        print(str(throughput) + \" Mb/sec\")\n",
    "\n",
    "    avgThroughput = totalThroughput / length\n",
    "\n",
    "    print(\"%d Clients Avg throughput: %s Mb/sec, Total: %s\" % (clientsToTest, avgThroughput, totalThroughput))\n",
    "    "
   ]
  },
  {
   "cell_type": "code",
   "execution_count": null,
   "metadata": {},
   "outputs": [],
   "source": [
    "import os\n",
    "import time\n",
    "router = slice.get_node(node1_name)\n",
    "routerIP = router.get_interface(network_name=network_name).get_ip_addr()\n",
    "testDuration = 60\n",
    "# netowrkType = \"plain\" | \"dpdk\"\n",
    "# networkType = \"plain\"\n",
    "for clientsToTest in runs:\n",
    "    outDir = \"/home/rocky/runs/%s/%dclient\" % (networkType, clientsToTest)\n",
    "\n",
    "    for i in range(1, clientsToTest + 1):\n",
    "            client = slice.get_node(client_prefix + str(i))\n",
    "            client.execute(\"rm -r %s\" % outDir)\n",
    "            client.execute(\"mkdir -p %s; cd %s; timeout %d python3 ~/AStream/dist/client/dash_client.py -m http://%s/media/BigBuckBunny/4sec/BigBuckBunny_4s.mpd -p 'basic' 2>/dev/null >/dev/null &\" % (outDir, outDir, testDuration, routerIP))\n",
    "            print(\"Started video streaming on client%d\" % i)\n",
    "    print(\"Waiting %d seconds...\" % testDuration)\n",
    "    time.sleep(testDuration)\n",
    "\n",
    "    localVideoDir = \"/home/fabric/work/project/videoStreaming/%s/%dclient\" % (networkType, clientsToTest)\n",
    "\n",
    "    def getLocalVideoCSVPath(clientIndex):\n",
    "        return \"%s/client%d.astream.csv\" % (localVideoDir, clientIndex)\n",
    "\n",
    "    os.system(\"mkdir -p \" + localVideoDir)\n",
    "    for i in range(1, clientsToTest + 1):\n",
    "            client = slice.get_node(client_prefix + str(i))\n",
    "            filepath = client.execute('find %s -type f -name \"*.csv\"' % outDir)[0].strip()\n",
    "            client.download_file(local_file_path=getLocalVideoCSVPath(i), remote_file_path=filepath)\n",
    "    print(\"Downloaded csv files to %s\" % localVideoDir) "
   ]
  },
  {
   "cell_type": "code",
   "execution_count": null,
   "metadata": {},
   "outputs": [],
   "source": [
    "import matplotlib.pyplot as plt\n",
    "import pandas as pd\n",
    "\n",
    "c = {'INITIAL_BUFFERING': 'violet', 'PLAY': 'lightcyan', 'BUFFERING': 'lightpink'}\n",
    "\n",
    "clientColors = {\n",
    "    1: 'k',\n",
    "    2: 'g',\n",
    "    3: 'b',\n",
    "    4: 'm',\n",
    "    5: 'r',\n",
    "}\n",
    "\n",
    "for clientsToTest in runs:\n",
    "    totalAvg = 0\n",
    "    totalVariance = 0\n",
    "    \n",
    "    localVideoDir = \"/home/fabric/work/project/videoStreaming/%s/%dclient\" % (networkType, clientsToTest)\n",
    "\n",
    "    for i in range(1, clientsToTest + 1):\n",
    "        local = getLocalVideoCSVPath(i)\n",
    "        print(local)\n",
    "        dash = pd.read_csv(local)\n",
    "\n",
    "        dash = dash.loc[dash.CurrentPlaybackState.isin(c.keys() )]\n",
    "        states = pd.DataFrame({'startState': dash.CurrentPlaybackState[0:-2].values, 'startTime': dash.EpochTime[0:-2].values,\n",
    "                                'endState':  dash.CurrentPlaybackState[1:-1].values, 'endTime':   dash.EpochTime[1:-1].values})\n",
    "\n",
    "\n",
    "        for index, s in states.iterrows():\n",
    "          plt.axvspan(s['startTime'], s['endTime'],  color=c[s['startState']], alpha=1)\n",
    "\n",
    "        streaming = dash[dash.Action!=\"Writing\"]\n",
    "        bitrate = streaming.Bitrate\n",
    "\n",
    "        avg = bitrate.mean() / 1_000_000\n",
    "        variance = bitrate.var() / 1_000_000\n",
    "        print(\"Bitrate average: %s Mbps\" % (avg))\n",
    "        print(\"Bitrate variance: %s\" % (variance))\n",
    "        totalAvg = totalAvg + avg\n",
    "        totalVariance = totalVariance + variance\n",
    "\n",
    "        plt.plot(streaming.EpochTime, bitrate, clientColors[i] + 'x:', label= \"client\" + str(i))\n",
    "    plt.legend()\n",
    "    plt.title(\"Plain Network Video rate (avg %.5f Mbps, var %.5f)\" % (totalAvg, totalVariance / clientsToTest));\n",
    "    # plt.title(\"Plain Network Video rate (avg %.5f Mbps, var %.5f)\" % (avg, variance));\n",
    "\n",
    "    plt.ylabel(\"Bitrate (bits/sec)\")\n",
    "    plt.xlabel(\"Time (s)\");\n",
    "\n",
    "        # print(\"ploted client\" + str(i)) \n",
    "\n",
    "    plt.savefig(localVideoDir + \"/bitrate.png\")\n",
    "    plt.show()"
   ]
  },
  {
   "cell_type": "code",
   "execution_count": null,
   "metadata": {},
   "outputs": [],
   "source": [
    "# Install Mellanox OFED driver\n",
    "router.upload_file(local_file_path=\"/home/fabric/work/project/MLNX_OFED_LINUX-5.8-4.1.5.0-rhel8.9-x86_64.tgz\", remote_file_path=\"/home/rocky/MLNX_OFED_LINUX-5.8-4.1.5.0-rhel8.9-x86_64.tgz\")"
   ]
  },
  {
   "cell_type": "markdown",
   "metadata": {},
   "source": [
    "## Delete the Slice\n",
    "\n",
    "Please delete your slice when you are done with your experiment."
   ]
  },
  {
   "cell_type": "code",
   "execution_count": null,
   "metadata": {},
   "outputs": [],
   "source": [
    "# slice.delete()"
   ]
  },
  {
   "cell_type": "code",
   "execution_count": null,
   "metadata": {},
   "outputs": [],
   "source": []
  }
 ],
 "metadata": {
  "kernelspec": {
   "display_name": "Python 3 (ipykernel)",
   "language": "python",
   "name": "python3"
  },
  "language_info": {
   "codemirror_mode": {
    "name": "ipython",
    "version": 3
   },
   "file_extension": ".py",
   "mimetype": "text/x-python",
   "name": "python",
   "nbconvert_exporter": "python",
   "pygments_lexer": "ipython3",
   "version": "3.10.6"
  }
 },
 "nbformat": 4,
 "nbformat_minor": 4
}
